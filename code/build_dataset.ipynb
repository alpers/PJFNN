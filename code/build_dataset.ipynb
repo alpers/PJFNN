{
 "cells": [
  {
   "cell_type": "markdown",
   "metadata": {},
   "source": [
    "# Build datasets\n",
    "- select a subset of the original data\n",
    "- perform negative sampling"
   ]
  },
  {
   "cell_type": "code",
   "metadata": {
    "ExecuteTime": {
     "end_time": "2024-11-24T18:15:53.840712Z",
     "start_time": "2024-11-24T18:15:53.554055Z"
    }
   },
   "source": [
    "import pandas as pd\n",
    "import numpy as np\n",
    "import warnings\n",
    "from tqdm import tqdm\n",
    "warnings.filterwarnings(\"ignore\")"
   ],
   "outputs": [],
   "execution_count": 1
  },
  {
   "cell_type": "code",
   "metadata": {
    "ExecuteTime": {
     "end_time": "2024-11-24T18:35:25.908504Z",
     "start_time": "2024-11-24T18:35:03.274701Z"
    }
   },
   "source": [
    "apps = pd.read_csv('./job-recommendation/apps.tsv', delimiter='\\t',encoding='utf-8')\n",
    "user_history = pd.read_csv('./job-recommendation/user_history.tsv', delimiter='\\t',encoding='utf-8')\n",
    "jobs = pd.read_csv('./job-recommendation/jobs.tsv', delimiter='\\t',encoding='utf-8', on_bad_lines='skip')\n",
    "users = pd.read_csv('./job-recommendation/users.tsv' ,delimiter='\\t',encoding='utf-8')\n",
    "# test_users = pd.read_csv('./job-recommendation/test_users.tsv', delimiter='\\t',encoding='utf-8')"
   ],
   "outputs": [],
   "execution_count": 5
  },
  {
   "cell_type": "markdown",
   "metadata": {},
   "source": [
    "# 1. Select the subset where ```WindowID=6```"
   ]
  },
  {
   "cell_type": "code",
   "metadata": {
    "ExecuteTime": {
     "end_time": "2024-11-24T18:35:47.413894Z",
     "start_time": "2024-11-24T18:35:47.381068Z"
    }
   },
   "source": [
    "user_history[user_history.WindowID==6].info()"
   ],
   "outputs": [
    {
     "name": "stdout",
     "output_type": "stream",
     "text": [
      "<class 'pandas.core.frame.DataFrame'>\n",
      "Index: 193853 entries, 1337041 to 1530893\n",
      "Data columns (total 5 columns):\n",
      " #   Column    Non-Null Count   Dtype \n",
      "---  ------    --------------   ----- \n",
      " 0   UserID    193853 non-null  int64 \n",
      " 1   WindowID  193853 non-null  int64 \n",
      " 2   Split     193853 non-null  object\n",
      " 3   Sequence  193853 non-null  int64 \n",
      " 4   JobTitle  180658 non-null  object\n",
      "dtypes: int64(3), object(2)\n",
      "memory usage: 8.9+ MB\n"
     ]
    }
   ],
   "execution_count": 6
  },
  {
   "cell_type": "code",
   "metadata": {
    "ExecuteTime": {
     "end_time": "2024-11-24T18:35:50.290957Z",
     "start_time": "2024-11-24T18:35:50.244510Z"
    }
   },
   "source": [
    "jobs[jobs.WindowID==6].info()"
   ],
   "outputs": [
    {
     "name": "stdout",
     "output_type": "stream",
     "text": [
      "<class 'pandas.core.frame.DataFrame'>\n",
      "Index: 115998 entries, 861371 to 977368\n",
      "Data columns (total 11 columns):\n",
      " #   Column        Non-Null Count   Dtype \n",
      "---  ------        --------------   ----- \n",
      " 0   JobID         115998 non-null  int64 \n",
      " 1   WindowID      115998 non-null  int64 \n",
      " 2   Title         115996 non-null  object\n",
      " 3   Description   115997 non-null  object\n",
      " 4   Requirements  115923 non-null  object\n",
      " 5   City          115998 non-null  object\n",
      " 6   State         115998 non-null  object\n",
      " 7   Country       115998 non-null  object\n",
      " 8   Zip5          71528 non-null   object\n",
      " 9   StartDate     115998 non-null  object\n",
      " 10  EndDate       115998 non-null  object\n",
      "dtypes: int64(2), object(9)\n",
      "memory usage: 10.6+ MB\n"
     ]
    }
   ],
   "execution_count": 7
  },
  {
   "cell_type": "code",
   "metadata": {
    "ExecuteTime": {
     "end_time": "2024-11-24T18:35:52.092553Z",
     "start_time": "2024-11-24T18:35:52.076095Z"
    }
   },
   "source": [
    "users[users.WindowID==6].info()"
   ],
   "outputs": [
    {
     "name": "stdout",
     "output_type": "stream",
     "text": [
      "<class 'pandas.core.frame.DataFrame'>\n",
      "Index: 43334 entries, 296639 to 339972\n",
      "Data columns (total 15 columns):\n",
      " #   Column                Non-Null Count  Dtype  \n",
      "---  ------                --------------  -----  \n",
      " 0   UserID                43334 non-null  int64  \n",
      " 1   WindowID              43334 non-null  int64  \n",
      " 2   Split                 43334 non-null  object \n",
      " 3   City                  43334 non-null  object \n",
      " 4   State                 43276 non-null  object \n",
      " 5   Country               43334 non-null  object \n",
      " 6   ZipCode               43142 non-null  object \n",
      " 7   DegreeType            32034 non-null  object \n",
      " 8   Major                 32428 non-null  object \n",
      " 9   GraduationDate        29703 non-null  object \n",
      " 10  WorkHistoryCount      43334 non-null  int64  \n",
      " 11  TotalYearsExperience  41733 non-null  float64\n",
      " 12  CurrentlyEmployed     40653 non-null  object \n",
      " 13  ManagedOthers         43334 non-null  object \n",
      " 14  ManagedHowMany        43334 non-null  int64  \n",
      "dtypes: float64(1), int64(4), object(10)\n",
      "memory usage: 5.3+ MB\n"
     ]
    }
   ],
   "execution_count": 8
  },
  {
   "cell_type": "code",
   "metadata": {
    "ExecuteTime": {
     "end_time": "2024-11-24T18:35:53.980272Z",
     "start_time": "2024-11-24T18:35:53.944932Z"
    }
   },
   "source": [
    "user_set = users[(users.WindowID==6) & (users.Country==\"US\")].dropna(axis=0,subset=[\"Major\", \"TotalYearsExperience\", \"CurrentlyEmployed\"])\n",
    "user_set.Split.value_counts(), user_set.info()"
   ],
   "outputs": [
    {
     "name": "stdout",
     "output_type": "stream",
     "text": [
      "<class 'pandas.core.frame.DataFrame'>\n",
      "Index: 30006 entries, 296639 to 339971\n",
      "Data columns (total 15 columns):\n",
      " #   Column                Non-Null Count  Dtype  \n",
      "---  ------                --------------  -----  \n",
      " 0   UserID                30006 non-null  int64  \n",
      " 1   WindowID              30006 non-null  int64  \n",
      " 2   Split                 30006 non-null  object \n",
      " 3   City                  30006 non-null  object \n",
      " 4   State                 30006 non-null  object \n",
      " 5   Country               30006 non-null  object \n",
      " 6   ZipCode               29960 non-null  object \n",
      " 7   DegreeType            26006 non-null  object \n",
      " 8   Major                 30006 non-null  object \n",
      " 9   GraduationDate        23379 non-null  object \n",
      " 10  WorkHistoryCount      30006 non-null  int64  \n",
      " 11  TotalYearsExperience  30006 non-null  float64\n",
      " 12  CurrentlyEmployed     30006 non-null  object \n",
      " 13  ManagedOthers         30006 non-null  object \n",
      " 14  ManagedHowMany        30006 non-null  int64  \n",
      "dtypes: float64(1), int64(4), object(10)\n",
      "memory usage: 3.7+ MB\n"
     ]
    },
    {
     "data": {
      "text/plain": [
       "(Split\n",
       " Train    28864\n",
       " Test      1142\n",
       " Name: count, dtype: int64,\n",
       " None)"
      ]
     },
     "execution_count": 9,
     "metadata": {},
     "output_type": "execute_result"
    }
   ],
   "execution_count": 9
  },
  {
   "cell_type": "code",
   "metadata": {
    "ExecuteTime": {
     "end_time": "2024-11-24T18:35:55.924406Z",
     "start_time": "2024-11-24T18:35:55.918803Z"
    }
   },
   "source": [
    "user_set.UserID.unique().size"
   ],
   "outputs": [
    {
     "data": {
      "text/plain": [
       "30006"
      ]
     },
     "execution_count": 10,
     "metadata": {},
     "output_type": "execute_result"
    }
   ],
   "execution_count": 10
  },
  {
   "cell_type": "code",
   "metadata": {
    "ExecuteTime": {
     "end_time": "2024-11-24T18:35:57.408869Z",
     "start_time": "2024-11-24T18:35:57.327345Z"
    }
   },
   "source": [
    "job_set = jobs[(jobs.WindowID==6) & (jobs.Country==\"US\")].dropna(axis=0,subset=[\"Description\",\"Requirements\",\"Title\"])\n",
    "job_set.info()"
   ],
   "outputs": [
    {
     "name": "stdout",
     "output_type": "stream",
     "text": [
      "<class 'pandas.core.frame.DataFrame'>\n",
      "Index: 115684 entries, 861371 to 977368\n",
      "Data columns (total 11 columns):\n",
      " #   Column        Non-Null Count   Dtype \n",
      "---  ------        --------------   ----- \n",
      " 0   JobID         115684 non-null  int64 \n",
      " 1   WindowID      115684 non-null  int64 \n",
      " 2   Title         115684 non-null  object\n",
      " 3   Description   115684 non-null  object\n",
      " 4   Requirements  115684 non-null  object\n",
      " 5   City          115684 non-null  object\n",
      " 6   State         115684 non-null  object\n",
      " 7   Country       115684 non-null  object\n",
      " 8   Zip5          71502 non-null   object\n",
      " 9   StartDate     115684 non-null  object\n",
      " 10  EndDate       115684 non-null  object\n",
      "dtypes: int64(2), object(9)\n",
      "memory usage: 10.6+ MB\n"
     ]
    }
   ],
   "execution_count": 11
  },
  {
   "cell_type": "code",
   "metadata": {
    "ExecuteTime": {
     "end_time": "2024-11-24T18:35:59.266010Z",
     "start_time": "2024-11-24T18:35:59.189992Z"
    }
   },
   "source": [
    "user_id = user_set.UserID.unique().tolist()\n",
    "job_id = job_set.JobID.unique().tolist()\n",
    "work_history = user_history[user_history.UserID.isin(user_id)]\n",
    "work_history.dropna(axis=0,subset=[\"JobTitle\"], inplace=True)\n",
    "\n",
    "application_record = apps[(apps.UserID.isin(user_id))&(apps.JobID.isin(job_id))]\n",
    "work_history.info(), application_record.info()"
   ],
   "outputs": [
    {
     "name": "stdout",
     "output_type": "stream",
     "text": [
      "<class 'pandas.core.frame.DataFrame'>\n",
      "Index: 130768 entries, 1337041 to 1530886\n",
      "Data columns (total 5 columns):\n",
      " #   Column    Non-Null Count   Dtype \n",
      "---  ------    --------------   ----- \n",
      " 0   UserID    130768 non-null  int64 \n",
      " 1   WindowID  130768 non-null  int64 \n",
      " 2   Split     130768 non-null  object\n",
      " 3   Sequence  130768 non-null  int64 \n",
      " 4   JobTitle  130768 non-null  object\n",
      "dtypes: int64(3), object(2)\n",
      "memory usage: 6.0+ MB\n",
      "<class 'pandas.core.frame.DataFrame'>\n",
      "Index: 121421 entries, 1247132 to 1421276\n",
      "Data columns (total 5 columns):\n",
      " #   Column           Non-Null Count   Dtype \n",
      "---  ------           --------------   ----- \n",
      " 0   UserID           121421 non-null  int64 \n",
      " 1   WindowID         121421 non-null  int64 \n",
      " 2   Split            121421 non-null  object\n",
      " 3   ApplicationDate  121421 non-null  object\n",
      " 4   JobID            121421 non-null  int64 \n",
      "dtypes: int64(3), object(2)\n",
      "memory usage: 5.6+ MB\n"
     ]
    },
    {
     "data": {
      "text/plain": [
       "(None, None)"
      ]
     },
     "execution_count": 12,
     "metadata": {},
     "output_type": "execute_result"
    }
   ],
   "execution_count": 12
  },
  {
   "cell_type": "markdown",
   "metadata": {},
   "source": [
    "- filter out users who are not in work_history or application_record"
   ]
  },
  {
   "cell_type": "code",
   "metadata": {
    "ExecuteTime": {
     "end_time": "2024-11-24T18:36:01.580481Z",
     "start_time": "2024-11-24T18:36:01.562446Z"
    }
   },
   "source": [
    "work_user_id = work_history.UserID.unique()\n",
    "application_user_id = application_record.UserID.unique()\n",
    "user_set = user_set[(user_set.UserID.isin(work_user_id))&(user_set.UserID.isin(application_user_id))]\n",
    "user_id = user_set.UserID.unique()\n",
    "application_record = application_record[application_record.UserID.isin(user_id)]\n",
    "work_history = work_history[work_history.UserID.isin(user_id)]"
   ],
   "outputs": [],
   "execution_count": 13
  },
  {
   "cell_type": "code",
   "metadata": {
    "ExecuteTime": {
     "end_time": "2024-11-24T18:36:03.172212Z",
     "start_time": "2024-11-24T18:36:03.154027Z"
    }
   },
   "source": [
    "application_record.info(), work_history.info()"
   ],
   "outputs": [
    {
     "name": "stdout",
     "output_type": "stream",
     "text": [
      "<class 'pandas.core.frame.DataFrame'>\n",
      "Index: 120436 entries, 1247132 to 1421276\n",
      "Data columns (total 5 columns):\n",
      " #   Column           Non-Null Count   Dtype \n",
      "---  ------           --------------   ----- \n",
      " 0   UserID           120436 non-null  int64 \n",
      " 1   WindowID         120436 non-null  int64 \n",
      " 2   Split            120436 non-null  object\n",
      " 3   ApplicationDate  120436 non-null  object\n",
      " 4   JobID            120436 non-null  int64 \n",
      "dtypes: int64(3), object(2)\n",
      "memory usage: 5.5+ MB\n",
      "<class 'pandas.core.frame.DataFrame'>\n",
      "Index: 112271 entries, 1337041 to 1530886\n",
      "Data columns (total 5 columns):\n",
      " #   Column    Non-Null Count   Dtype \n",
      "---  ------    --------------   ----- \n",
      " 0   UserID    112271 non-null  int64 \n",
      " 1   WindowID  112271 non-null  int64 \n",
      " 2   Split     112271 non-null  object\n",
      " 3   Sequence  112271 non-null  int64 \n",
      " 4   JobTitle  112271 non-null  object\n",
      "dtypes: int64(3), object(2)\n",
      "memory usage: 5.1+ MB\n"
     ]
    },
    {
     "data": {
      "text/plain": [
       "(None, None)"
      ]
     },
     "execution_count": 14,
     "metadata": {},
     "output_type": "execute_result"
    }
   ],
   "execution_count": 14
  },
  {
   "cell_type": "code",
   "metadata": {
    "ExecuteTime": {
     "end_time": "2024-11-24T18:36:04.869507Z",
     "start_time": "2024-11-24T18:36:04.861279Z"
    }
   },
   "source": [
    "application_record.Split.value_counts(), user_set.Split.value_counts()"
   ],
   "outputs": [
    {
     "data": {
      "text/plain": [
       "(Split\n",
       " Train    111467\n",
       " Test       8969\n",
       " Name: count, dtype: int64,\n",
       " Split\n",
       " Train    24883\n",
       " Test       628\n",
       " Name: count, dtype: int64)"
      ]
     },
     "execution_count": 15,
     "metadata": {},
     "output_type": "execute_result"
    }
   ],
   "execution_count": 15
  },
  {
   "cell_type": "code",
   "metadata": {
    "ExecuteTime": {
     "end_time": "2024-11-24T18:36:06.731656Z",
     "start_time": "2024-11-24T18:36:06.725658Z"
    }
   },
   "source": [
    "(user_set.UserID.unique() == application_record.UserID.unique()).all(), (user_set.UserID.unique() == work_history.UserID.unique()).all()"
   ],
   "outputs": [
    {
     "data": {
      "text/plain": [
       "(True, True)"
      ]
     },
     "execution_count": 16,
     "metadata": {},
     "output_type": "execute_result"
    }
   ],
   "execution_count": 16
  },
  {
   "cell_type": "code",
   "metadata": {
    "ExecuteTime": {
     "end_time": "2024-11-24T18:36:10.740434Z",
     "start_time": "2024-11-24T18:36:08.092107Z"
    }
   },
   "source": [
    "user_set.to_csv(\"user_set.csv\", index=False)\n",
    "application_record.to_csv(\"application_record.csv\", index=False)\n",
    "work_history.to_csv(\"work_history.csv\", index=False)\n",
    "job_set.to_csv(\"job_set.csv\", index=False)"
   ],
   "outputs": [],
   "execution_count": 17
  },
  {
   "cell_type": "markdown",
   "metadata": {},
   "source": [
    "# 2. Negative Sampling"
   ]
  },
  {
   "cell_type": "code",
   "metadata": {
    "ExecuteTime": {
     "end_time": "2024-11-24T18:37:47.711288Z",
     "start_time": "2024-11-24T18:36:14.196952Z"
    }
   },
   "source": [
    "dataset_sample = pd.DataFrame(columns = [\"UserID\",\"JobID\",\"label\"])\n",
    "job_id = job_set.JobID.unique().tolist()\n",
    "groups = application_record.groupby(\"UserID\")\n",
    "user_ids = []\n",
    "job_ids = []\n",
    "labels = []\n",
    "\n",
    "for idx, group in tqdm(groups):\n",
    "    size = len(group)\n",
    "    exist_job = group.JobID.unique().tolist()\n",
    "    candidate_job = [i for i in job_id if i not in exist_job ]\n",
    "    sample_job = np.random.randint(0,len(candidate_job),size)\n",
    "    user_ids.extend([idx] * 2 * size)\n",
    "    exist_job.extend([candidate_job[i] for i in sample_job])\n",
    "    job_ids.extend(exist_job)\n",
    "    label = [1] * size\n",
    "    label.extend([0] * size)\n",
    "    labels.extend(label)\n",
    "\n",
    "dataset_sample.UserID = user_ids\n",
    "dataset_sample.JobID = job_ids\n",
    "dataset_sample.label = labels"
   ],
   "outputs": [
    {
     "name": "stderr",
     "output_type": "stream",
     "text": [
      "100%|██████████| 25511/25511 [01:33<00:00, 273.87it/s]\n"
     ]
    }
   ],
   "execution_count": 18
  },
  {
   "cell_type": "code",
   "metadata": {
    "ExecuteTime": {
     "end_time": "2024-11-24T18:37:53.379068Z",
     "start_time": "2024-11-24T18:37:53.373081Z"
    }
   },
   "source": [
    "dataset_sample.label.value_counts()"
   ],
   "outputs": [
    {
     "data": {
      "text/plain": [
       "label\n",
       "1    120436\n",
       "0    120436\n",
       "Name: count, dtype: int64"
      ]
     },
     "execution_count": 19,
     "metadata": {},
     "output_type": "execute_result"
    }
   ],
   "execution_count": 19
  },
  {
   "cell_type": "code",
   "metadata": {
    "ExecuteTime": {
     "end_time": "2024-11-24T18:37:55.634176Z",
     "start_time": "2024-11-24T18:37:55.538118Z"
    }
   },
   "source": [
    "dataset_sample.to_csv(\"dataset.csv\",index=False)"
   ],
   "outputs": [],
   "execution_count": 20
  },
  {
   "cell_type": "markdown",
   "metadata": {},
   "source": [
    "# 3. Filter out the labels in html"
   ]
  },
  {
   "cell_type": "code",
   "metadata": {
    "ExecuteTime": {
     "end_time": "2024-11-24T18:38:00.034550Z",
     "start_time": "2024-11-24T18:37:57.546297Z"
    }
   },
   "source": [
    "job_set = pd.read_csv(\"job_set.csv\")"
   ],
   "outputs": [],
   "execution_count": 21
  },
  {
   "cell_type": "code",
   "metadata": {
    "ExecuteTime": {
     "end_time": "2024-11-24T18:38:01.627611Z",
     "start_time": "2024-11-24T18:38:01.624320Z"
    }
   },
   "source": [
    "import re\n",
    "\n",
    "def filter_tags(htmlstr):\n",
    "\n",
    "    re_cdata=re.compile('//<!\\[CDATA\\[[^>]*//\\]\\]>',re.I) \n",
    "    re_script=re.compile('<\\s*script[^>]*>[^<]*<\\s*/\\s*script\\s*>',re.I)#Script\n",
    "    re_style=re.compile('<\\s*style[^>]*>[^<]*<\\s*/\\s*style\\s*>',re.I)#style\n",
    "    re_br=re.compile('<br\\s*?/?>')\n",
    "    re_h=re.compile('</?\\w+[^>]*>')\n",
    "    re_comment=re.compile('<!--[^>]*-->')\n",
    "    s=re_cdata.sub('',htmlstr)\n",
    "    s=re_script.sub('',s) \n",
    "    s=re_style.sub('',s)\n",
    "    s=re_br.sub('\\n',s)\n",
    "    s=re_h.sub('',s) \n",
    "    s=re_comment.sub('',s)\n",
    "    blank_line=re.compile('\\n+')\n",
    "    s=blank_line.sub('\\n',s)\n",
    "    s=s.replace('\\\\r',\" \")\n",
    "    s=s.replace('\\\\t',\" \")\n",
    "    s=s.replace('\\n',\" \")\n",
    "    s=s.replace('\\\\n',\" \")\n",
    "    s = re.sub(r'(https|http)?:\\/\\/(\\w|\\.|\\/|\\?|\\=|\\&|\\%)*\\b', '', s, flags=re.MULTILINE)\n",
    "    s = re.sub(r'[\\w\\-_]+(\\.[\\w\\-_]+)+([\\w\\-\\.,@?^=%&amp;:/~\\+#]*[\\w\\-\\@?^=%&amp;/~\\+#])?', '', s, flags=re.MULTILINE)\n",
    "    s = re.sub(r'(www)?:\\/\\/(\\w|\\.|\\/|\\?|\\=|\\&|\\%)*\\b', '', s, flags=re.MULTILINE)\n",
    "    s = re.sub(r'[0-9a-zA-Z.]+@[0-9a-zA-Z.]', \" \", s, flags=re.MULTILINE)\n",
    "    s = re.sub('\\xa0', \" \", s, flags=re.MULTILINE)\n",
    "    s=replaceCharEntity(s)\n",
    "    return s\n",
    "\n",
    "\n",
    "def replaceCharEntity(htmlstr):\n",
    "    CHAR_ENTITIES={'nbsp':' ','160':' ',\n",
    "        'lt':'<','60':'<',\n",
    "        'gt':'>','62':'>',\n",
    "        'amp':'&','38':'&',\n",
    "        'quot':'\"','34':'\"',}\n",
    "   \n",
    "    re_charEntity=re.compile(r'&#?(?P<name>\\w+);')\n",
    "    sz=re_charEntity.search(htmlstr)\n",
    "    while sz:\n",
    "        entity=sz.group()\n",
    "        key=sz.group('name')\n",
    "        try:\n",
    "            htmlstr=re_charEntity.sub(CHAR_ENTITIES[key],htmlstr,1)\n",
    "            sz=re_charEntity.search(htmlstr)\n",
    "        except KeyError:\n",
    "            htmlstr=re_charEntity.sub('',htmlstr,1)\n",
    "            sz=re_charEntity.search(htmlstr)\n",
    "    return htmlstr\n",
    "def repalce(s,re_exp,repl_string):\n",
    "    return re_exp.sub(repl_string,s)"
   ],
   "outputs": [],
   "execution_count": 22
  },
  {
   "cell_type": "code",
   "metadata": {
    "ExecuteTime": {
     "end_time": "2024-11-24T18:39:03.678939Z",
     "start_time": "2024-11-24T18:38:10.238038Z"
    }
   },
   "source": [
    "Description = [filter_tags(i) for i in job_set.Description.values]\n",
    "Requirements = [filter_tags(i) for i in job_set.Requirements.values]"
   ],
   "outputs": [],
   "execution_count": 23
  },
  {
   "cell_type": "code",
   "metadata": {
    "ExecuteTime": {
     "end_time": "2024-11-24T18:39:12.522404Z",
     "start_time": "2024-11-24T18:39:12.473835Z"
    }
   },
   "source": [
    "job_set.drop(columns=[\"Description\",\"Requirements\"])\n",
    "job_set[\"Description\"] = Description\n",
    "job_set[\"Requirements\"] = Requirements"
   ],
   "outputs": [],
   "execution_count": 24
  },
  {
   "cell_type": "code",
   "metadata": {
    "ExecuteTime": {
     "end_time": "2024-11-24T18:39:16.178061Z",
     "start_time": "2024-11-24T18:39:14.102283Z"
    }
   },
   "source": [
    "job_set.to_csv(\"job_set_cleaned.csv\", index=False)"
   ],
   "outputs": [],
   "execution_count": 25
  },
  {
   "cell_type": "code",
   "execution_count": null,
   "metadata": {},
   "outputs": [],
   "source": []
  },
  {
   "cell_type": "code",
   "execution_count": null,
   "metadata": {},
   "outputs": [],
   "source": []
  }
 ],
 "metadata": {
  "kernelspec": {
   "display_name": "Python 3 (ipykernel)",
   "language": "python",
   "name": "python3"
  },
  "language_info": {
   "codemirror_mode": {
    "name": "ipython",
    "version": 3
   },
   "file_extension": ".py",
   "mimetype": "text/x-python",
   "name": "python",
   "nbconvert_exporter": "python",
   "pygments_lexer": "ipython3",
   "version": "3.7.6"
  }
 },
 "nbformat": 4,
 "nbformat_minor": 4
}
