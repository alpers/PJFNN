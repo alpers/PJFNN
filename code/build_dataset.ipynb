{
 "cells": [
  {
   "cell_type": "markdown",
   "metadata": {},
   "source": [
    "# Build datasets\n",
    "- select a subset of the original data\n",
    "- perform negative sampling"
   ]
  },
  {
   "cell_type": "code",
   "execution_count": 1,
   "metadata": {},
   "outputs": [],
   "source": [
    "import pandas as pd\n",
    "import numpy as np\n",
    "import warnings\n",
    "from tqdm import tqdm\n",
    "warnings.filterwarnings(\"ignore\")"
   ]
  },
  {
   "cell_type": "code",
   "execution_count": 62,
   "metadata": {},
   "outputs": [
    {
     "name": "stderr",
     "output_type": "stream",
     "text": [
      "b'Skipping line 122433: expected 11 fields, saw 12\\n'\n",
      "b'Skipping line 602576: expected 11 fields, saw 12\\n'\n",
      "b'Skipping line 990950: expected 11 fields, saw 12\\n'\n"
     ]
    }
   ],
   "source": [
    "apps = pd.read_csv('./job-recommendation/apps.tsv', delimiter='\\t',encoding='utf-8')\n",
    "user_history = pd.read_csv('./job-recommendation/user_history.tsv', delimiter='\\t',encoding='utf-8')\n",
    "jobs = pd.read_csv('./job-recommendation/jobs.tsv', delimiter='\\t',encoding='utf-8', error_bad_lines=False)\n",
    "users = pd.read_csv('./job-recommendation/users.tsv' ,delimiter='\\t',encoding='utf-8')\n",
    "# test_users = pd.read_csv('./job-recommendation/test_users.tsv', delimiter='\\t',encoding='utf-8')"
   ]
  },
  {
   "cell_type": "markdown",
   "metadata": {},
   "source": [
    "# 1. Select the subset where ```WindowID=6```"
   ]
  },
  {
   "cell_type": "code",
   "execution_count": 63,
   "metadata": {},
   "outputs": [
    {
     "name": "stdout",
     "output_type": "stream",
     "text": [
      "<class 'pandas.core.frame.DataFrame'>\n",
      "Int64Index: 193853 entries, 1337041 to 1530893\n",
      "Data columns (total 5 columns):\n",
      " #   Column    Non-Null Count   Dtype \n",
      "---  ------    --------------   ----- \n",
      " 0   UserID    193853 non-null  int64 \n",
      " 1   WindowID  193853 non-null  int64 \n",
      " 2   Split     193853 non-null  object\n",
      " 3   Sequence  193853 non-null  int64 \n",
      " 4   JobTitle  180658 non-null  object\n",
      "dtypes: int64(3), object(2)\n",
      "memory usage: 8.9+ MB\n"
     ]
    }
   ],
   "source": [
    "user_history[user_history.WindowID==6].info()"
   ]
  },
  {
   "cell_type": "code",
   "execution_count": 64,
   "metadata": {},
   "outputs": [
    {
     "name": "stdout",
     "output_type": "stream",
     "text": [
      "<class 'pandas.core.frame.DataFrame'>\n",
      "Int64Index: 115998 entries, 861371 to 977368\n",
      "Data columns (total 11 columns):\n",
      " #   Column        Non-Null Count   Dtype \n",
      "---  ------        --------------   ----- \n",
      " 0   JobID         115998 non-null  int64 \n",
      " 1   WindowID      115998 non-null  int64 \n",
      " 2   Title         115996 non-null  object\n",
      " 3   Description   115997 non-null  object\n",
      " 4   Requirements  115930 non-null  object\n",
      " 5   City          115998 non-null  object\n",
      " 6   State         115998 non-null  object\n",
      " 7   Country       115998 non-null  object\n",
      " 8   Zip5          71528 non-null   object\n",
      " 9   StartDate     115998 non-null  object\n",
      " 10  EndDate       115998 non-null  object\n",
      "dtypes: int64(2), object(9)\n",
      "memory usage: 10.6+ MB\n"
     ]
    }
   ],
   "source": [
    "jobs[jobs.WindowID==6].info()"
   ]
  },
  {
   "cell_type": "code",
   "execution_count": 65,
   "metadata": {},
   "outputs": [
    {
     "name": "stdout",
     "output_type": "stream",
     "text": [
      "<class 'pandas.core.frame.DataFrame'>\n",
      "Int64Index: 43334 entries, 296639 to 339972\n",
      "Data columns (total 15 columns):\n",
      " #   Column                Non-Null Count  Dtype  \n",
      "---  ------                --------------  -----  \n",
      " 0   UserID                43334 non-null  int64  \n",
      " 1   WindowID              43334 non-null  int64  \n",
      " 2   Split                 43334 non-null  object \n",
      " 3   City                  43334 non-null  object \n",
      " 4   State                 43276 non-null  object \n",
      " 5   Country               43334 non-null  object \n",
      " 6   ZipCode               43142 non-null  object \n",
      " 7   DegreeType            43334 non-null  object \n",
      " 8   Major                 32433 non-null  object \n",
      " 9   GraduationDate        29703 non-null  object \n",
      " 10  WorkHistoryCount      43334 non-null  int64  \n",
      " 11  TotalYearsExperience  41733 non-null  float64\n",
      " 12  CurrentlyEmployed     40653 non-null  object \n",
      " 13  ManagedOthers         43334 non-null  object \n",
      " 14  ManagedHowMany        43334 non-null  int64  \n",
      "dtypes: float64(1), int64(4), object(10)\n",
      "memory usage: 5.3+ MB\n"
     ]
    }
   ],
   "source": [
    "users[users.WindowID==6].info()"
   ]
  },
  {
   "cell_type": "code",
   "execution_count": 67,
   "metadata": {},
   "outputs": [
    {
     "name": "stdout",
     "output_type": "stream",
     "text": [
      "<class 'pandas.core.frame.DataFrame'>\n",
      "Int64Index: 30011 entries, 296639 to 339971\n",
      "Data columns (total 15 columns):\n",
      " #   Column                Non-Null Count  Dtype  \n",
      "---  ------                --------------  -----  \n",
      " 0   UserID                30011 non-null  int64  \n",
      " 1   WindowID              30011 non-null  int64  \n",
      " 2   Split                 30011 non-null  object \n",
      " 3   City                  30011 non-null  object \n",
      " 4   State                 30011 non-null  object \n",
      " 5   Country               30011 non-null  object \n",
      " 6   ZipCode               29965 non-null  object \n",
      " 7   DegreeType            30011 non-null  object \n",
      " 8   Major                 30011 non-null  object \n",
      " 9   GraduationDate        23384 non-null  object \n",
      " 10  WorkHistoryCount      30011 non-null  int64  \n",
      " 11  TotalYearsExperience  30011 non-null  float64\n",
      " 12  CurrentlyEmployed     30011 non-null  object \n",
      " 13  ManagedOthers         30011 non-null  object \n",
      " 14  ManagedHowMany        30011 non-null  int64  \n",
      "dtypes: float64(1), int64(4), object(10)\n",
      "memory usage: 3.7+ MB\n"
     ]
    },
    {
     "data": {
      "text/plain": [
       "(Train    28869\n",
       " Test      1142\n",
       " Name: Split, dtype: int64,\n",
       " None)"
      ]
     },
     "execution_count": 67,
     "metadata": {},
     "output_type": "execute_result"
    }
   ],
   "source": [
    "user_set = users[(users.WindowID==6) & (users.Country==\"US\")].dropna(axis=0,subset=[\"Major\", \"TotalYearsExperience\", \"CurrentlyEmployed\"])\n",
    "user_set.Split.value_counts(), user_set.info()"
   ]
  },
  {
   "cell_type": "code",
   "execution_count": 68,
   "metadata": {},
   "outputs": [
    {
     "data": {
      "text/plain": [
       "30011"
      ]
     },
     "execution_count": 68,
     "metadata": {},
     "output_type": "execute_result"
    }
   ],
   "source": [
    "user_set.UserID.unique().size"
   ]
  },
  {
   "cell_type": "code",
   "execution_count": 69,
   "metadata": {},
   "outputs": [
    {
     "name": "stdout",
     "output_type": "stream",
     "text": [
      "<class 'pandas.core.frame.DataFrame'>\n",
      "Int64Index: 115691 entries, 861371 to 977368\n",
      "Data columns (total 11 columns):\n",
      " #   Column        Non-Null Count   Dtype \n",
      "---  ------        --------------   ----- \n",
      " 0   JobID         115691 non-null  int64 \n",
      " 1   WindowID      115691 non-null  int64 \n",
      " 2   Title         115691 non-null  object\n",
      " 3   Description   115691 non-null  object\n",
      " 4   Requirements  115691 non-null  object\n",
      " 5   City          115691 non-null  object\n",
      " 6   State         115691 non-null  object\n",
      " 7   Country       115691 non-null  object\n",
      " 8   Zip5          71509 non-null   object\n",
      " 9   StartDate     115691 non-null  object\n",
      " 10  EndDate       115691 non-null  object\n",
      "dtypes: int64(2), object(9)\n",
      "memory usage: 10.6+ MB\n"
     ]
    }
   ],
   "source": [
    "job_set = jobs[(jobs.WindowID==6) & (jobs.Country==\"US\")].dropna(axis=0,subset=[\"Description\",\"Requirements\",\"Title\"])\n",
    "job_set.info()"
   ]
  },
  {
   "cell_type": "code",
   "execution_count": 70,
   "metadata": {},
   "outputs": [
    {
     "name": "stdout",
     "output_type": "stream",
     "text": [
      "<class 'pandas.core.frame.DataFrame'>\n",
      "Int64Index: 130791 entries, 1337041 to 1530886\n",
      "Data columns (total 5 columns):\n",
      " #   Column    Non-Null Count   Dtype \n",
      "---  ------    --------------   ----- \n",
      " 0   UserID    130791 non-null  int64 \n",
      " 1   WindowID  130791 non-null  int64 \n",
      " 2   Split     130791 non-null  object\n",
      " 3   Sequence  130791 non-null  int64 \n",
      " 4   JobTitle  130791 non-null  object\n",
      "dtypes: int64(3), object(2)\n",
      "memory usage: 6.0+ MB\n",
      "<class 'pandas.core.frame.DataFrame'>\n",
      "Int64Index: 121442 entries, 1247132 to 1421276\n",
      "Data columns (total 5 columns):\n",
      " #   Column           Non-Null Count   Dtype \n",
      "---  ------           --------------   ----- \n",
      " 0   UserID           121442 non-null  int64 \n",
      " 1   WindowID         121442 non-null  int64 \n",
      " 2   Split            121442 non-null  object\n",
      " 3   ApplicationDate  121442 non-null  object\n",
      " 4   JobID            121442 non-null  int64 \n",
      "dtypes: int64(3), object(2)\n",
      "memory usage: 5.6+ MB\n"
     ]
    },
    {
     "data": {
      "text/plain": [
       "(None, None)"
      ]
     },
     "execution_count": 70,
     "metadata": {},
     "output_type": "execute_result"
    }
   ],
   "source": [
    "user_id = user_set.UserID.unique().tolist()\n",
    "job_id = job_set.JobID.unique().tolist()\n",
    "work_history = user_history[user_history.UserID.isin(user_id)]\n",
    "work_history.dropna(axis=0,subset=[\"JobTitle\"], inplace=True)\n",
    "\n",
    "application_record = apps[(apps.UserID.isin(user_id))&(apps.JobID.isin(job_id))]\n",
    "work_history.info(), application_record.info()"
   ]
  },
  {
   "cell_type": "markdown",
   "metadata": {},
   "source": [
    "- filter out users who are not in work_history or application_record"
   ]
  },
  {
   "cell_type": "code",
   "execution_count": 73,
   "metadata": {},
   "outputs": [],
   "source": [
    "work_user_id = work_history.UserID.unique()\n",
    "application_user_id = application_record.UserID.unique()\n",
    "user_set = user_set[(user_set.UserID.isin(work_user_id))&(user_set.UserID.isin(application_user_id))]\n",
    "user_id = user_set.UserID.unique()\n",
    "application_record = application_record[application_record.UserID.isin(user_id)]\n",
    "work_history = work_history[work_history.UserID.isin(user_id)]"
   ]
  },
  {
   "cell_type": "code",
   "execution_count": 75,
   "metadata": {},
   "outputs": [
    {
     "name": "stdout",
     "output_type": "stream",
     "text": [
      "<class 'pandas.core.frame.DataFrame'>\n",
      "Int64Index: 120457 entries, 1247132 to 1421276\n",
      "Data columns (total 5 columns):\n",
      " #   Column           Non-Null Count   Dtype \n",
      "---  ------           --------------   ----- \n",
      " 0   UserID           120457 non-null  int64 \n",
      " 1   WindowID         120457 non-null  int64 \n",
      " 2   Split            120457 non-null  object\n",
      " 3   ApplicationDate  120457 non-null  object\n",
      " 4   JobID            120457 non-null  int64 \n",
      "dtypes: int64(3), object(2)\n",
      "memory usage: 5.5+ MB\n",
      "<class 'pandas.core.frame.DataFrame'>\n",
      "Int64Index: 112294 entries, 1337041 to 1530886\n",
      "Data columns (total 5 columns):\n",
      " #   Column    Non-Null Count   Dtype \n",
      "---  ------    --------------   ----- \n",
      " 0   UserID    112294 non-null  int64 \n",
      " 1   WindowID  112294 non-null  int64 \n",
      " 2   Split     112294 non-null  object\n",
      " 3   Sequence  112294 non-null  int64 \n",
      " 4   JobTitle  112294 non-null  object\n",
      "dtypes: int64(3), object(2)\n",
      "memory usage: 5.1+ MB\n"
     ]
    },
    {
     "data": {
      "text/plain": [
       "(None, None)"
      ]
     },
     "execution_count": 75,
     "metadata": {},
     "output_type": "execute_result"
    }
   ],
   "source": [
    "application_record.info(), work_history.info()"
   ]
  },
  {
   "cell_type": "code",
   "execution_count": 76,
   "metadata": {},
   "outputs": [
    {
     "data": {
      "text/plain": [
       "(Train    111488\n",
       " Test       8969\n",
       " Name: Split, dtype: int64,\n",
       " Train    24888\n",
       " Test       628\n",
       " Name: Split, dtype: int64)"
      ]
     },
     "execution_count": 76,
     "metadata": {},
     "output_type": "execute_result"
    }
   ],
   "source": [
    "application_record.Split.value_counts(), user_set.Split.value_counts()"
   ]
  },
  {
   "cell_type": "code",
   "execution_count": 79,
   "metadata": {},
   "outputs": [
    {
     "data": {
      "text/plain": [
       "(True, True)"
      ]
     },
     "execution_count": 79,
     "metadata": {},
     "output_type": "execute_result"
    }
   ],
   "source": [
    "(user_set.UserID.unique() == application_record.UserID.unique()).all(), (user_set.UserID.unique() == work_history.UserID.unique()).all()"
   ]
  },
  {
   "cell_type": "code",
   "execution_count": 80,
   "metadata": {},
   "outputs": [],
   "source": [
    "user_set.to_csv(\"user_set.csv\", index=False)\n",
    "application_record.to_csv(\"application_record.csv\", index=False)\n",
    "work_history.to_csv(\"work_history.csv\", index=False)\n",
    "job_set.to_csv(\"job_set.csv\", index=False)"
   ]
  },
  {
   "cell_type": "markdown",
   "metadata": {},
   "source": [
    "# 2. Negative Sampling"
   ]
  },
  {
   "cell_type": "code",
   "execution_count": 134,
   "metadata": {},
   "outputs": [
    {
     "name": "stderr",
     "output_type": "stream",
     "text": [
      "100%|██████████| 25516/25516 [04:46<00:00, 89.04it/s] \n"
     ]
    }
   ],
   "source": [
    "dataset_sample = pd.DataFrame(columns = [\"UserID\",\"JobID\",\"label\"])\n",
    "job_id = job_set.JobID.unique().tolist()\n",
    "groups = application_record.groupby(\"UserID\")\n",
    "user_ids = []\n",
    "job_ids = []\n",
    "labels = []\n",
    "\n",
    "for idx, group in tqdm(groups):\n",
    "    size = len(group)\n",
    "    exist_job = group.JobID.unique().tolist()\n",
    "    candidate_job = [i for i in job_id if i not in exist_job ]\n",
    "    sample_job = np.random.randint(0,len(candidate_job),size)\n",
    "    user_ids.extend([idx] * 2 * size)\n",
    "    exist_job.extend([candidate_job[i] for i in sample_job])\n",
    "    job_ids.extend(exist_job)\n",
    "    label = [1] * size\n",
    "    label.extend([0] * size)\n",
    "    labels.extend(label)\n",
    "\n",
    "dataset_sample.UserID = user_ids\n",
    "dataset_sample.JobID = job_ids\n",
    "dataset_sample.label = labels"
   ]
  },
  {
   "cell_type": "code",
   "execution_count": 138,
   "metadata": {},
   "outputs": [
    {
     "data": {
      "text/plain": [
       "1    120457\n",
       "0    120457\n",
       "Name: label, dtype: int64"
      ]
     },
     "execution_count": 138,
     "metadata": {},
     "output_type": "execute_result"
    }
   ],
   "source": [
    "dataset_sample.label.value_counts()"
   ]
  },
  {
   "cell_type": "code",
   "execution_count": 139,
   "metadata": {},
   "outputs": [],
   "source": [
    "dataset_sample.to_csv(\"dataset.csv\",index=False)"
   ]
  },
  {
   "cell_type": "markdown",
   "metadata": {},
   "source": [
    "# 3. Filter out the labels in html"
   ]
  },
  {
   "cell_type": "code",
   "execution_count": 67,
   "metadata": {},
   "outputs": [],
   "source": [
    "job_set = pd.read_csv(\"job_set.csv\")"
   ]
  },
  {
   "cell_type": "code",
   "execution_count": 68,
   "metadata": {},
   "outputs": [],
   "source": [
    "import re\n",
    "\n",
    "def filter_tags(htmlstr):\n",
    "\n",
    "    re_cdata=re.compile('//<!\\[CDATA\\[[^>]*//\\]\\]>',re.I) \n",
    "    re_script=re.compile('<\\s*script[^>]*>[^<]*<\\s*/\\s*script\\s*>',re.I)#Script\n",
    "    re_style=re.compile('<\\s*style[^>]*>[^<]*<\\s*/\\s*style\\s*>',re.I)#style\n",
    "    re_br=re.compile('<br\\s*?/?>')\n",
    "    re_h=re.compile('</?\\w+[^>]*>')\n",
    "    re_comment=re.compile('<!--[^>]*-->')\n",
    "    s=re_cdata.sub('',htmlstr)\n",
    "    s=re_script.sub('',s) \n",
    "    s=re_style.sub('',s)\n",
    "    s=re_br.sub('\\n',s)\n",
    "    s=re_h.sub('',s) \n",
    "    s=re_comment.sub('',s)\n",
    "    blank_line=re.compile('\\n+')\n",
    "    s=blank_line.sub('\\n',s)\n",
    "    s=s.replace('\\\\r',\" \")\n",
    "    s=s.replace('\\\\t',\" \")\n",
    "    s=s.replace('\\n',\" \")\n",
    "    s=s.replace('\\\\n',\" \")\n",
    "    s = re.sub(r'(https|http)?:\\/\\/(\\w|\\.|\\/|\\?|\\=|\\&|\\%)*\\b', '', s, flags=re.MULTILINE)\n",
    "    s = re.sub(r'[\\w\\-_]+(\\.[\\w\\-_]+)+([\\w\\-\\.,@?^=%&amp;:/~\\+#]*[\\w\\-\\@?^=%&amp;/~\\+#])?', '', s, flags=re.MULTILINE)\n",
    "    s = re.sub(r'(www)?:\\/\\/(\\w|\\.|\\/|\\?|\\=|\\&|\\%)*\\b', '', s, flags=re.MULTILINE)\n",
    "    s = re.sub(r'[0-9a-zA-Z.]+@[0-9a-zA-Z.]', \" \", s, flags=re.MULTILINE)\n",
    "    s = re.sub('\\xa0', \" \", s, flags=re.MULTILINE)\n",
    "    s=replaceCharEntity(s)\n",
    "    return s\n",
    "\n",
    "\n",
    "def replaceCharEntity(htmlstr):\n",
    "    CHAR_ENTITIES={'nbsp':' ','160':' ',\n",
    "        'lt':'<','60':'<',\n",
    "        'gt':'>','62':'>',\n",
    "        'amp':'&','38':'&',\n",
    "        'quot':'\"','34':'\"',}\n",
    "   \n",
    "    re_charEntity=re.compile(r'&#?(?P<name>\\w+);')\n",
    "    sz=re_charEntity.search(htmlstr)\n",
    "    while sz:\n",
    "        entity=sz.group()\n",
    "        key=sz.group('name')\n",
    "        try:\n",
    "            htmlstr=re_charEntity.sub(CHAR_ENTITIES[key],htmlstr,1)\n",
    "            sz=re_charEntity.search(htmlstr)\n",
    "        except KeyError:\n",
    "            htmlstr=re_charEntity.sub('',htmlstr,1)\n",
    "            sz=re_charEntity.search(htmlstr)\n",
    "    return htmlstr\n",
    "def repalce(s,re_exp,repl_string):\n",
    "    return re_exp.sub(repl_string,s)"
   ]
  },
  {
   "cell_type": "code",
   "execution_count": 70,
   "metadata": {},
   "outputs": [],
   "source": [
    "Description = [filter_tags(i) for i in job_set.Description.values]\n",
    "Requirements = [filter_tags(i) for i in job_set.Requirements.values]"
   ]
  },
  {
   "cell_type": "code",
   "execution_count": 71,
   "metadata": {},
   "outputs": [],
   "source": [
    "job_set.drop(columns=[\"Description\",\"Requirements\"])\n",
    "job_set[\"Description\"] = Description\n",
    "job_set[\"Requirements\"] = Requirements"
   ]
  },
  {
   "cell_type": "code",
   "execution_count": 73,
   "metadata": {},
   "outputs": [],
   "source": [
    "job_set.to_csv(\"job_set_cleaned.csv\", index=False)"
   ]
  },
  {
   "cell_type": "code",
   "execution_count": null,
   "metadata": {},
   "outputs": [],
   "source": []
  },
  {
   "cell_type": "code",
   "execution_count": null,
   "metadata": {},
   "outputs": [],
   "source": []
  }
 ],
 "metadata": {
  "kernelspec": {
   "display_name": "deeplearning",
   "language": "python",
   "name": "deeplearning"
  },
  "language_info": {
   "codemirror_mode": {
    "name": "ipython",
    "version": 3
   },
   "file_extension": ".py",
   "mimetype": "text/x-python",
   "name": "python",
   "nbconvert_exporter": "python",
   "pygments_lexer": "ipython3",
   "version": "3.7.6"
  }
 },
 "nbformat": 4,
 "nbformat_minor": 4
}
